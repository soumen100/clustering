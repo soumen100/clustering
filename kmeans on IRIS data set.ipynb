{
 "cells": [
  {
   "cell_type": "markdown",
   "id": "73f89260",
   "metadata": {},
   "source": [
    "# The 5 Steps in K-means Clustering Algorithm <br>\n",
    "Step 1. Randomly pick k data points as our initial Centroids.<br>\n",
    "Step 2. Find the distance (Euclidean distance for our purpose) between each data points in our training set with the k centroids.<br>\n",
    "\n",
    "Step 3. Now assign each data point to the closest centroid according to the distance found.<br>\n",
    "Step 4. Update centroid location by taking the average of the points in each cluster group.<br>\n",
    "\n",
    "Step 5. Repeat the Steps 2 to 4 till our centroids don’t change.<br>\n",
    "\n",
    "We can choose optimal value of K (Number of Clusters) using methods like the The Elbow method.<br>"
   ]
  },
  {
   "cell_type": "markdown",
   "id": "a3e1ef7e",
   "metadata": {},
   "source": [
    "Import libarys"
   ]
  },
  {
   "cell_type": "code",
   "execution_count": 32,
   "id": "e0cf452c",
   "metadata": {},
   "outputs": [],
   "source": [
    "import pandas as pd\n",
    "import matplotlib.pyplot as plt\n",
    "from matplotlib import style\n",
    "import numpy as np\n",
    "from scipy.spatial.distance import cdist "
   ]
  },
  {
   "cell_type": "markdown",
   "id": "3b4f71ec",
   "metadata": {},
   "source": [
    "# Implemeting on Breast cancer data set"
   ]
  },
  {
   "cell_type": "code",
   "execution_count": 33,
   "id": "acda9c5d",
   "metadata": {},
   "outputs": [
    {
     "name": "stdout",
     "output_type": "stream",
     "text": [
      "<class 'pandas.core.frame.DataFrame'>\n",
      "<class 'numpy.ndarray'>\n"
     ]
    }
   ],
   "source": [
    "data = pd.read_csv('Iris.csv')\n",
    "data.head()\n",
    "data = data.drop(['Species'],axis=1)\n",
    "data.head()\n",
    "print(type(data))\n",
    "data = data.to_numpy()\n",
    "print(type(data))"
   ]
  },
  {
   "cell_type": "markdown",
   "id": "e51ed88e",
   "metadata": {},
   "source": [
    "Implementing Alogrithm"
   ]
  },
  {
   "cell_type": "code",
   "execution_count": 34,
   "id": "ab7b12d9",
   "metadata": {},
   "outputs": [],
   "source": [
    "#Function to implement steps given in previous section\n",
    "distortions_2 = []\n",
    "def kmeans__(x,k, no_of_iterations,dist_method):\n",
    "    idx = np.random.choice(len(x), k, replace=False)\n",
    "    #Randomly choosing Centroids \n",
    "    centroids = x[idx, :] #Step 1   \n",
    "    #finding the distance between centroids and all the data points\n",
    "    distances = cdist(x, centroids ,dist_method) #Step 2 # calculate paire wise distence\n",
    "    #print(distances) \n",
    "    #Centroid with the minimum Distance\n",
    "    #print([np.argmin(i) for i in distances])\n",
    "    points = np.array([np.argmin(i) for i in distances]) #Step 3\n",
    "    #print(points) \n",
    "    #Repeating the above steps for a defined number of iterations\n",
    "    #Step 4\n",
    "   # print(centroids)\n",
    "    for _ in range(no_of_iterations): \n",
    "        centroids = []\n",
    "        for idx in range(k):\n",
    "            #Updating Centroids by taking mean of Cluster it belongs to\n",
    "            temp_cent = x[points==idx].mean(axis=0) \n",
    "            centroids.append(temp_cent)\n",
    " \n",
    "        centroids = np.vstack(centroids) #Updated Centroids \n",
    "        #print(centroids) \n",
    "        distances = cdist(x, centroids, dist_method)\n",
    "        points = np.array([np.argmin(i) for i in distances])\n",
    "        distortions_2.append(sum(np.min(cdist(x, centroids,dist_method),axis = 1)) / x.shape[0])\n",
    "    return points"
   ]
  },
  {
   "cell_type": "markdown",
   "id": "aacbfb2f",
   "metadata": {},
   "source": [
    "Define Elbow method"
   ]
  },
  {
   "cell_type": "code",
   "execution_count": 35,
   "id": "06dabd59",
   "metadata": {},
   "outputs": [],
   "source": [
    "def elobow(k_val,num_itt):\n",
    "    k_val = k_val +1\n",
    "    m = []\n",
    "    for K in range(1,k_val):\n",
    "        kmeans__(data,K,num_itt,'euclidean')\n",
    "        avg = np.mean(distortions_2)\n",
    "        m.append(avg)    \n",
    "    K = np.arange(1,k_val)\n",
    "    plt.plot(K, m, 'bx-')\n",
    "    plt.xlabel('k')\n",
    "    plt.ylabel('Sum_of_squared_distances')\n",
    "    plt.title('Elbow Method For Optimal k')\n",
    "    plt.show()"
   ]
  },
  {
   "cell_type": "code",
   "execution_count": 36,
   "id": "a0304047",
   "metadata": {},
   "outputs": [
    {
     "data": {
      "image/png": "[encoded data removed]",
      "text/plain": [
       "<Figure size 432x288 with 1 Axes>"
      ]
     },
     "metadata": {
      "needs_background": "light"
     },
     "output_type": "display_data"
    }
   ],
   "source": [
    "elobow(10,300)"
   ]
  },
  {
   "cell_type": "markdown",
   "id": "85d9db9b",
   "metadata": {},
   "source": [
    "using won code"
   ]
  },
  {
   "cell_type": "code",
   "execution_count": 37,
   "id": "1677eceb",
   "metadata": {},
   "outputs": [
    {
     "name": "stdout",
     "output_type": "stream",
     "text": [
      "[0 0 0 0 0 0 0 0 0 0 0 0 0 0 0 0 0 0 0 0 0 0 0 0 0 0 0 0 0 0 0 0 0 0 0 0 0\n",
      " 0 0 0 0 0 0 0 0 0 0 0 0 1 1 1 1 1 1 1 1 1 1 1 1 1 1 1 1 1 1 1 1 1 1 1 1 1\n",
      " 1 1 1 1 1 1 1 1 1 1 1 1 1 1 1 1 1 1 1 1 1 1 1 1 1 2 2 2 2 2 2 2 2 2 2 2 2\n",
      " 2 2 2 2 2 2 2 2 2 2 2 2 2 2 2 2 2 2 2 2 2 2 2 2 2 2 2 2 2 2 2 2 2 2 2 2 2\n",
      " 2 2]\n"
     ]
    }
   ],
   "source": [
    "# we obtained k = 4 will be best fit\n",
    "lable_w = kmeans__(data,3,500,'euclidean')\n",
    "print(lable_w)"
   ]
  },
  {
   "cell_type": "markdown",
   "id": "9ffcb496",
   "metadata": {},
   "source": [
    "Output using libary method"
   ]
  },
  {
   "cell_type": "code",
   "execution_count": 38,
   "id": "ab2c33cf",
   "metadata": {},
   "outputs": [
    {
     "name": "stdout",
     "output_type": "stream",
     "text": [
      "[1 1 1 1 1 1 1 1 1 1 1 1 1 1 1 1 1 1 1 1 1 1 1 1 1 1 1 1 1 1 1 1 1 1 1 1 1\n",
      " 1 1 1 1 1 1 1 1 1 1 1 1 1 2 2 2 2 2 2 2 2 2 2 2 2 2 2 2 2 2 2 2 2 2 2 2 2\n",
      " 2 2 2 2 2 2 2 2 2 2 2 2 2 2 2 2 2 2 2 2 2 2 2 2 2 2 0 0 0 0 0 0 0 0 0 0 0\n",
      " 0 0 0 0 0 0 0 0 0 0 0 0 0 0 0 0 0 0 0 0 0 0 0 0 0 0 0 0 0 0 0 0 0 0 0 0 0\n",
      " 0 0]\n"
     ]
    }
   ],
   "source": [
    "from sklearn.cluster import KMeans\n",
    "kmeans = KMeans(n_clusters = 3, random_state = 42)\n",
    "lable1 = kmeans.fit_predict(data)\n",
    "print(lable1)"
   ]
  },
  {
   "cell_type": "markdown",
   "id": "83224bed",
   "metadata": {},
   "source": [
    "cheak cluster validation using davies_bouldin_score"
   ]
  },
  {
   "cell_type": "code",
   "execution_count": 39,
   "id": "6f8bd126",
   "metadata": {},
   "outputs": [
    {
     "name": "stdout",
     "output_type": "stream",
     "text": [
      "0.5016415379890683\n",
      "0.501590583152269\n"
     ]
    }
   ],
   "source": [
    "from sklearn.metrics import davies_bouldin_score\n",
    "\n",
    "print(davies_bouldin_score(data, lable_w))\n",
    "print(davies_bouldin_score(data, lable1))"
   ]
  },
  {
   "cell_type": "markdown",
   "id": "937f7677",
   "metadata": {},
   "source": [
    "Remakes : our method works prety good and not much deffer from libary method"
   ]
  }
 ],
 "metadata": {
  "kernelspec": {
   "display_name": "Python 3 (ipykernel)",
   "language": "python",
   "name": "python3"
  },
  "language_info": {
   "codemirror_mode": {
    "name": "ipython",
    "version": 3
   },
   "file_extension": ".py",
   "mimetype": "text/x-python",
   "name": "python",
   "nbconvert_exporter": "python",
   "pygments_lexer": "ipython3",
   "version": "3.9.7"
  }
 },
 "nbformat": 4,
 "nbformat_minor": 5
}
